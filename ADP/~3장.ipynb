{
 "cells": [
  {
   "cell_type": "markdown",
   "metadata": {},
   "source": [
    "# 2장"
   ]
  },
  {
   "cell_type": "markdown",
   "metadata": {},
   "source": [
    "## library"
   ]
  },
  {
   "cell_type": "code",
   "execution_count": 1,
   "metadata": {},
   "outputs": [
    {
     "name": "stderr",
     "output_type": "stream",
     "text": [
      "randomForest 4.6-14\n",
      "\n",
      "Type rfNews() to see new features/changes/bug fixes.\n",
      "\n"
     ]
    }
   ],
   "source": [
    "library(randomForest)"
   ]
  },
  {
   "cell_type": "markdown",
   "metadata": {},
   "source": [
    "## 데이터 타입\n",
    "- 타입별 특징/생성법/관련함수 정리  \n",
    "- 타입 판별/타입변환 "
   ]
  },
  {
   "cell_type": "markdown",
   "metadata": {},
   "source": [
    "### 1. 타입별 특징 / 생성법/ 관련함수 정리\n",
    "- 스칼라\n",
    "- 벡터\n",
    "- 리스트\n",
    "- 행렬\n",
    "- 배열\n",
    "- 데이터 프레임\n"
   ]
  },
  {
   "cell_type": "markdown",
   "metadata": {},
   "source": [
    "- 스칼라\n",
    "> 단일 차원의 값. 스칼라 데이터는 길이가 1인 벡터 ( 즉, 길이가 1인 배열) eg)1,2,3.... \n",
    "> 숫자, 문자, na, null, boolean\n",
    "> factor ( 범주형 자료 : 명목형 / 순서형 )  <> numeric 수치형데이터"
   ]
  },
  {
   "cell_type": "code",
   "execution_count": 3,
   "metadata": {},
   "outputs": [
    {
     "name": "stdout",
     "output_type": "stream",
     "text": [
      "[1] 1\n",
      "[1] TRUE\n",
      "[1] TRUE\n",
      "logical(0)\n"
     ]
    }
   ],
   "source": [
    "one = 1\n",
    "print(one)\n",
    "four = NA\n",
    "print(is.na(four))\n",
    "two = NULL\n",
    "print(is.null(two))\n",
    "print(is.na(two))"
   ]
  },
  {
   "cell_type": "markdown",
   "metadata": {},
   "source": [
    "> na와 NULL는 구분해서 사용해야 한다. : na는 결측치 // NULL은 미정 "
   ]
  },
  {
   "cell_type": "code",
   "execution_count": null,
   "metadata": {},
   "outputs": [],
   "source": [
    "three = 'three'\n",
    "five = FALSE\n",
    "print(three)\n",
    "print(five)"
   ]
  },
  {
   "cell_type": "code",
   "execution_count": 6,
   "metadata": {},
   "outputs": [
    {
     "name": "stdout",
     "output_type": "stream",
     "text": [
      "[1] m\n",
      "Levels: m f\n",
      "[1] 2\n"
     ]
    },
    {
     "data": {
      "text/html": [
       "<style>\n",
       ".list-inline {list-style: none; margin:0; padding: 0}\n",
       ".list-inline>li {display: inline-block}\n",
       ".list-inline>li:not(:last-child)::after {content: \"\\00b7\"; padding: 0 .5ex}\n",
       "</style>\n",
       "<ol class=list-inline><li>'m'</li><li>'f'</li></ol>\n"
      ],
      "text/latex": [
       "\\begin{enumerate*}\n",
       "\\item 'm'\n",
       "\\item 'f'\n",
       "\\end{enumerate*}\n"
      ],
      "text/markdown": [
       "1. 'm'\n",
       "2. 'f'\n",
       "\n",
       "\n"
      ],
      "text/plain": [
       "[1] \"m\" \"f\""
      ]
     },
     "metadata": {},
     "output_type": "display_data"
    },
    {
     "data": {
      "text/html": [
       "<style>\n",
       ".list-inline {list-style: none; margin:0; padding: 0}\n",
       ".list-inline>li {display: inline-block}\n",
       ".list-inline>li:not(:last-child)::after {content: \"\\00b7\"; padding: 0 .5ex}\n",
       "</style>\n",
       "<ol class=list-inline><li>m</li><li>m</li><li>f</li></ol>\n",
       "\n",
       "<details>\n",
       "\t<summary style=display:list-item;cursor:pointer>\n",
       "\t\t<strong>Levels</strong>:\n",
       "\t</summary>\n",
       "\t<style>\n",
       "\t.list-inline {list-style: none; margin:0; padding: 0}\n",
       "\t.list-inline>li {display: inline-block}\n",
       "\t.list-inline>li:not(:last-child)::after {content: \"\\00b7\"; padding: 0 .5ex}\n",
       "\t</style>\n",
       "\t<ol class=list-inline><li>'m'</li><li>'f'</li></ol>\n",
       "</details>"
      ],
      "text/latex": [
       "\\begin{enumerate*}\n",
       "\\item m\n",
       "\\item m\n",
       "\\item f\n",
       "\\end{enumerate*}\n",
       "\n",
       "\\emph{Levels}: \\begin{enumerate*}\n",
       "\\item 'm'\n",
       "\\item 'f'\n",
       "\\end{enumerate*}\n"
      ],
      "text/markdown": [
       "1. m\n",
       "2. m\n",
       "3. f\n",
       "\n",
       "\n",
       "\n",
       "**Levels**: 1. 'm'\n",
       "2. 'f'\n",
       "\n",
       "\n"
      ],
      "text/plain": [
       "[1] m m f\n",
       "Levels: m f"
      ]
     },
     "metadata": {},
     "output_type": "display_data"
    },
    {
     "data": {
      "text/html": [
       "a\n",
       "<details>\n",
       "\t<summary style=display:list-item;cursor:pointer>\n",
       "\t\t<strong>Levels</strong>:\n",
       "\t</summary>\n",
       "\t<style>\n",
       "\t.list-inline {list-style: none; margin:0; padding: 0}\n",
       "\t.list-inline>li {display: inline-block}\n",
       "\t.list-inline>li:not(:last-child)::after {content: \"\\00b7\"; padding: 0 .5ex}\n",
       "\t</style>\n",
       "\t<ol class=list-inline><li>'a'</li><li>'b'</li><li>'c'</li></ol>\n",
       "</details>"
      ],
      "text/latex": [
       "a\n",
       "\\emph{Levels}: \\begin{enumerate*}\n",
       "\\item 'a'\n",
       "\\item 'b'\n",
       "\\item 'c'\n",
       "\\end{enumerate*}\n"
      ],
      "text/markdown": [
       "a\n",
       "**Levels**: 1. 'a'\n",
       "2. 'b'\n",
       "3. 'c'\n",
       "\n",
       "\n"
      ],
      "text/plain": [
       "[1] a\n",
       "Levels: a < b < c"
      ]
     },
     "metadata": {},
     "output_type": "display_data"
    }
   ],
   "source": [
    "sex =  factor(\"m\", c(\"m\", \"f\"))\n",
    "print(sex)\n",
    "print(nlevels(sex))\n",
    "levels(sex)\n",
    "factor(c(\"m\", \"m\", \"f\"), c(\"m\", \"f\"))\n",
    "ordered(\"a\", c(\"a\", \"b\", \"c\"))"
   ]
  },
  {
   "cell_type": "markdown",
   "metadata": {},
   "source": [
    "- 벡터\n",
    "> 배열의 개념으로, 한 가지 스칼라 데이터 타입의 데이터를 저장"
   ]
  },
  {
   "cell_type": "code",
   "execution_count": 1,
   "metadata": {},
   "outputs": [
    {
     "data": {
      "text/html": [
       "<style>\n",
       ".list-inline {list-style: none; margin:0; padding: 0}\n",
       ".list-inline>li {display: inline-block}\n",
       ".list-inline>li:not(:last-child)::after {content: \"\\00b7\"; padding: 0 .5ex}\n",
       "</style>\n",
       "<ol class=list-inline><li>'1'</li><li>'2'</li><li>'3'</li></ol>\n"
      ],
      "text/latex": [
       "\\begin{enumerate*}\n",
       "\\item '1'\n",
       "\\item '2'\n",
       "\\item '3'\n",
       "\\end{enumerate*}\n"
      ],
      "text/markdown": [
       "1. '1'\n",
       "2. '2'\n",
       "3. '3'\n",
       "\n",
       "\n"
      ],
      "text/plain": [
       "[1] \"1\" \"2\" \"3\""
      ]
     },
     "metadata": {},
     "output_type": "display_data"
    }
   ],
   "source": [
    "(x <- c(\"1\", 2, \"3\"))"
   ]
  },
  {
   "cell_type": "code",
   "execution_count": 11,
   "metadata": {},
   "outputs": [],
   "source": [
    " x = c(1, 3, 4)\n",
    "names (x) = c(\"kim\", \"seo\", \"park\")"
   ]
  },
  {
   "cell_type": "code",
   "execution_count": 12,
   "metadata": {},
   "outputs": [
    {
     "data": {
      "text/html": [
       "<style>\n",
       ".dl-inline {width: auto; margin:0; padding: 0}\n",
       ".dl-inline>dt, .dl-inline>dd {float: none; width: auto; display: inline-block}\n",
       ".dl-inline>dt::after {content: \":\\0020\"; padding-right: .5ex}\n",
       ".dl-inline>dt:not(:first-of-type) {padding-left: .5ex}\n",
       "</style><dl class=dl-inline><dt>kim</dt><dd>1</dd><dt>seo</dt><dd>3</dd><dt>park</dt><dd>4</dd></dl>\n"
      ],
      "text/latex": [
       "\\begin{description*}\n",
       "\\item[kim] 1\n",
       "\\item[seo] 3\n",
       "\\item[park] 4\n",
       "\\end{description*}\n"
      ],
      "text/markdown": [
       "kim\n",
       ":   1seo\n",
       ":   3park\n",
       ":   4\n",
       "\n"
      ],
      "text/plain": [
       " kim  seo park \n",
       "   1    3    4 "
      ]
     },
     "metadata": {},
     "output_type": "display_data"
    },
    {
     "data": {
      "text/html": [
       "<style>\n",
       ".dl-inline {width: auto; margin:0; padding: 0}\n",
       ".dl-inline>dt, .dl-inline>dd {float: none; width: auto; display: inline-block}\n",
       ".dl-inline>dt::after {content: \":\\0020\"; padding-right: .5ex}\n",
       ".dl-inline>dt:not(:first-of-type) {padding-left: .5ex}\n",
       "</style><dl class=dl-inline><dt>kim</dt><dd>1</dd><dt>seo</dt><dd>3</dd></dl>\n"
      ],
      "text/latex": [
       "\\begin{description*}\n",
       "\\item[kim] 1\n",
       "\\item[seo] 3\n",
       "\\end{description*}\n"
      ],
      "text/markdown": [
       "kim\n",
       ":   1seo\n",
       ":   3\n",
       "\n"
      ],
      "text/plain": [
       "kim seo \n",
       "  1   3 "
      ]
     },
     "metadata": {},
     "output_type": "display_data"
    },
    {
     "data": {
      "text/html": [
       "3"
      ],
      "text/latex": [
       "3"
      ],
      "text/markdown": [
       "3"
      ],
      "text/plain": [
       "[1] 3"
      ]
     },
     "metadata": {},
     "output_type": "display_data"
    },
    {
     "data": {
      "text/plain": [
       "NULL"
      ]
     },
     "metadata": {},
     "output_type": "display_data"
    },
    {
     "data": {
      "text/html": [
       "3"
      ],
      "text/latex": [
       "3"
      ],
      "text/markdown": [
       "3"
      ],
      "text/plain": [
       "[1] 3"
      ]
     },
     "metadata": {},
     "output_type": "display_data"
    },
    {
     "data": {
      "text/html": [
       "<style>\n",
       ".dl-inline {width: auto; margin:0; padding: 0}\n",
       ".dl-inline>dt, .dl-inline>dd {float: none; width: auto; display: inline-block}\n",
       ".dl-inline>dt::after {content: \":\\0020\"; padding-right: .5ex}\n",
       ".dl-inline>dt:not(:first-of-type) {padding-left: .5ex}\n",
       "</style><dl class=dl-inline><dt>seo</dt><dd>3</dd><dt>park</dt><dd>4</dd></dl>\n"
      ],
      "text/latex": [
       "\\begin{description*}\n",
       "\\item[seo] 3\n",
       "\\item[park] 4\n",
       "\\end{description*}\n"
      ],
      "text/markdown": [
       "seo\n",
       ":   3park\n",
       ":   4\n",
       "\n"
      ],
      "text/plain": [
       " seo park \n",
       "   3    4 "
      ]
     },
     "metadata": {},
     "output_type": "display_data"
    },
    {
     "data": {
      "text/html": [
       "<style>\n",
       ".dl-inline {width: auto; margin:0; padding: 0}\n",
       ".dl-inline>dt, .dl-inline>dd {float: none; width: auto; display: inline-block}\n",
       ".dl-inline>dt::after {content: \":\\0020\"; padding-right: .5ex}\n",
       ".dl-inline>dt:not(:first-of-type) {padding-left: .5ex}\n",
       "</style><dl class=dl-inline><dt>kim</dt><dd>1</dd><dt>park</dt><dd>4</dd></dl>\n"
      ],
      "text/latex": [
       "\\begin{description*}\n",
       "\\item[kim] 1\n",
       "\\item[park] 4\n",
       "\\end{description*}\n"
      ],
      "text/markdown": [
       "kim\n",
       ":   1park\n",
       ":   4\n",
       "\n"
      ],
      "text/plain": [
       " kim park \n",
       "   1    4 "
      ]
     },
     "metadata": {},
     "output_type": "display_data"
    },
    {
     "data": {
      "text/html": [
       "<style>\n",
       ".dl-inline {width: auto; margin:0; padding: 0}\n",
       ".dl-inline>dt, .dl-inline>dd {float: none; width: auto; display: inline-block}\n",
       ".dl-inline>dt::after {content: \":\\0020\"; padding-right: .5ex}\n",
       ".dl-inline>dt:not(:first-of-type) {padding-left: .5ex}\n",
       "</style><dl class=dl-inline><dt>kim</dt><dd>1</dd><dt>park</dt><dd>4</dd></dl>\n"
      ],
      "text/latex": [
       "\\begin{description*}\n",
       "\\item[kim] 1\n",
       "\\item[park] 4\n",
       "\\end{description*}\n"
      ],
      "text/markdown": [
       "kim\n",
       ":   1park\n",
       ":   4\n",
       "\n"
      ],
      "text/plain": [
       " kim park \n",
       "   1    4 "
      ]
     },
     "metadata": {},
     "output_type": "display_data"
    }
   ],
   "source": [
    "(x)\n",
    "x[1:2]\n",
    "length(x)\n",
    "nrow(x)\n",
    "NROW(x)\n",
    "x[-1]\n",
    "x[-2]\n",
    "x[c(1,3)]"
   ]
  },
  {
   "cell_type": "code",
   "execution_count": 17,
   "metadata": {},
   "outputs": [
    {
     "data": {
      "text/html": [
       "<style>\n",
       ".list-inline {list-style: none; margin:0; padding: 0}\n",
       ".list-inline>li {display: inline-block}\n",
       ".list-inline>li:not(:last-child)::after {content: \"\\00b7\"; padding: 0 .5ex}\n",
       "</style>\n",
       "<ol class=list-inline><li>1</li><li>3</li><li>5</li><li>7</li><li>9</li></ol>\n"
      ],
      "text/latex": [
       "\\begin{enumerate*}\n",
       "\\item 1\n",
       "\\item 3\n",
       "\\item 5\n",
       "\\item 7\n",
       "\\item 9\n",
       "\\end{enumerate*}\n"
      ],
      "text/markdown": [
       "1. 1\n",
       "2. 3\n",
       "3. 5\n",
       "4. 7\n",
       "5. 9\n",
       "\n",
       "\n"
      ],
      "text/plain": [
       "[1] 1 3 5 7 9"
      ]
     },
     "metadata": {},
     "output_type": "display_data"
    },
    {
     "data": {
      "text/html": [
       "<style>\n",
       ".list-inline {list-style: none; margin:0; padding: 0}\n",
       ".list-inline>li {display: inline-block}\n",
       ".list-inline>li:not(:last-child)::after {content: \"\\00b7\"; padding: 0 .5ex}\n",
       "</style>\n",
       "<ol class=list-inline><li>1</li><li>1</li><li>1</li><li>1</li><li>1</li><li>2</li><li>2</li><li>2</li><li>2</li><li>2</li><li>1</li><li>1</li><li>1</li><li>1</li><li>1</li><li>2</li><li>2</li><li>2</li><li>2</li><li>2</li></ol>\n"
      ],
      "text/latex": [
       "\\begin{enumerate*}\n",
       "\\item 1\n",
       "\\item 1\n",
       "\\item 1\n",
       "\\item 1\n",
       "\\item 1\n",
       "\\item 2\n",
       "\\item 2\n",
       "\\item 2\n",
       "\\item 2\n",
       "\\item 2\n",
       "\\item 1\n",
       "\\item 1\n",
       "\\item 1\n",
       "\\item 1\n",
       "\\item 1\n",
       "\\item 2\n",
       "\\item 2\n",
       "\\item 2\n",
       "\\item 2\n",
       "\\item 2\n",
       "\\end{enumerate*}\n"
      ],
      "text/markdown": [
       "1. 1\n",
       "2. 1\n",
       "3. 1\n",
       "4. 1\n",
       "5. 1\n",
       "6. 2\n",
       "7. 2\n",
       "8. 2\n",
       "9. 2\n",
       "10. 2\n",
       "11. 1\n",
       "12. 1\n",
       "13. 1\n",
       "14. 1\n",
       "15. 1\n",
       "16. 2\n",
       "17. 2\n",
       "18. 2\n",
       "19. 2\n",
       "20. 2\n",
       "\n",
       "\n"
      ],
      "text/plain": [
       " [1] 1 1 1 1 1 2 2 2 2 2 1 1 1 1 1 2 2 2 2 2"
      ]
     },
     "metadata": {},
     "output_type": "display_data"
    }
   ],
   "source": [
    "seq(1,10,2)\n",
    "rep(1:2,each=5,times=2)"
   ]
  },
  {
   "cell_type": "markdown",
   "metadata": {},
   "source": [
    "- 리스트\n",
    "> "
   ]
  },
  {
   "cell_type": "code",
   "execution_count": 18,
   "metadata": {},
   "outputs": [
    {
     "data": {
      "text/html": [
       "<dl>\n",
       "\t<dt>$name</dt>\n",
       "\t\t<dd>'foo'</dd>\n",
       "\t<dt>$height</dt>\n",
       "\t\t<dd>70</dd>\n",
       "</dl>\n"
      ],
      "text/latex": [
       "\\begin{description}\n",
       "\\item[\\$name] 'foo'\n",
       "\\item[\\$height] 70\n",
       "\\end{description}\n"
      ],
      "text/markdown": [
       "$name\n",
       ":   'foo'\n",
       "$height\n",
       ":   70\n",
       "\n",
       "\n"
      ],
      "text/plain": [
       "$name\n",
       "[1] \"foo\"\n",
       "\n",
       "$height\n",
       "[1] 70\n"
      ]
     },
     "metadata": {},
     "output_type": "display_data"
    }
   ],
   "source": [
    "(x = list(name='foo',height=70))"
   ]
  },
  {
   "cell_type": "code",
   "execution_count": 22,
   "metadata": {},
   "outputs": [
    {
     "data": {
      "text/html": [
       "<dl>\n",
       "\t<dt>$name</dt>\n",
       "\t\t<dd>'foo'</dd>\n",
       "\t<dt>$height</dt>\n",
       "\t\t<dd><style>\n",
       ".list-inline {list-style: none; margin:0; padding: 0}\n",
       ".list-inline>li {display: inline-block}\n",
       ".list-inline>li:not(:last-child)::after {content: \"\\00b7\"; padding: 0 .5ex}\n",
       "</style>\n",
       "<ol class=list-inline><li>1</li><li>3</li><li>5</li></ol>\n",
       "</dd>\n",
       "</dl>\n"
      ],
      "text/latex": [
       "\\begin{description}\n",
       "\\item[\\$name] 'foo'\n",
       "\\item[\\$height] \\begin{enumerate*}\n",
       "\\item 1\n",
       "\\item 3\n",
       "\\item 5\n",
       "\\end{enumerate*}\n",
       "\n",
       "\\end{description}\n"
      ],
      "text/markdown": [
       "$name\n",
       ":   'foo'\n",
       "$height\n",
       ":   1. 1\n",
       "2. 3\n",
       "3. 5\n",
       "\n",
       "\n",
       "\n",
       "\n",
       "\n"
      ],
      "text/plain": [
       "$name\n",
       "[1] \"foo\"\n",
       "\n",
       "$height\n",
       "[1] 1 3 5\n"
      ]
     },
     "metadata": {},
     "output_type": "display_data"
    }
   ],
   "source": [
    "x =list(name='foo', height=c(1,3,5))\n",
    "x"
   ]
  },
  {
   "cell_type": "code",
   "execution_count": 25,
   "metadata": {},
   "outputs": [
    {
     "data": {
      "text/html": [
       "'foo'"
      ],
      "text/latex": [
       "'foo'"
      ],
      "text/markdown": [
       "'foo'"
      ],
      "text/plain": [
       "[1] \"foo\""
      ]
     },
     "metadata": {},
     "output_type": "display_data"
    },
    {
     "data": {
      "text/html": [
       "<style>\n",
       ".list-inline {list-style: none; margin:0; padding: 0}\n",
       ".list-inline>li {display: inline-block}\n",
       ".list-inline>li:not(:last-child)::after {content: \"\\00b7\"; padding: 0 .5ex}\n",
       "</style>\n",
       "<ol class=list-inline><li>1</li><li>3</li><li>5</li></ol>\n"
      ],
      "text/latex": [
       "\\begin{enumerate*}\n",
       "\\item 1\n",
       "\\item 3\n",
       "\\item 5\n",
       "\\end{enumerate*}\n"
      ],
      "text/markdown": [
       "1. 1\n",
       "2. 3\n",
       "3. 5\n",
       "\n",
       "\n"
      ],
      "text/plain": [
       "[1] 1 3 5"
      ]
     },
     "metadata": {},
     "output_type": "display_data"
    },
    {
     "data": {
      "text/html": [
       "<strong>$name</strong> = 'foo'"
      ],
      "text/latex": [
       "\\textbf{\\$name} = 'foo'"
      ],
      "text/markdown": [
       "**$name** = 'foo'"
      ],
      "text/plain": [
       "$name\n",
       "[1] \"foo\"\n"
      ]
     },
     "metadata": {},
     "output_type": "display_data"
    },
    {
     "data": {
      "text/html": [
       "<strong>$height</strong> = <style>\n",
       ".list-inline {list-style: none; margin:0; padding: 0}\n",
       ".list-inline>li {display: inline-block}\n",
       ".list-inline>li:not(:last-child)::after {content: \"\\00b7\"; padding: 0 .5ex}\n",
       "</style>\n",
       "<ol class=list-inline><li>1</li><li>3</li><li>5</li></ol>\n"
      ],
      "text/latex": [
       "\\textbf{\\$height} = \\begin{enumerate*}\n",
       "\\item 1\n",
       "\\item 3\n",
       "\\item 5\n",
       "\\end{enumerate*}\n"
      ],
      "text/markdown": [
       "**$height** = 1. 1\n",
       "2. 3\n",
       "3. 5\n",
       "\n",
       "\n"
      ],
      "text/plain": [
       "$height\n",
       "[1] 1 3 5\n"
      ]
     },
     "metadata": {},
     "output_type": "display_data"
    }
   ],
   "source": [
    "x$name\n",
    "x$height\n",
    "x[1]\n",
    "x[2]"
   ]
  },
  {
   "cell_type": "markdown",
   "metadata": {},
   "source": [
    "- 행렬\n",
    "> "
   ]
  },
  {
   "cell_type": "code",
   "execution_count": 26,
   "metadata": {},
   "outputs": [
    {
     "data": {
      "text/html": [
       "<table>\n",
       "<caption>A matrix: 3 × 3 of type int</caption>\n",
       "<thead>\n",
       "\t<tr><th></th><th scope=col>c1</th><th scope=col>c2</th><th scope=col>c3</th></tr>\n",
       "</thead>\n",
       "<tbody>\n",
       "\t<tr><th scope=row>r1</th><td>1</td><td>4</td><td>7</td></tr>\n",
       "\t<tr><th scope=row>r2</th><td>2</td><td>5</td><td>8</td></tr>\n",
       "\t<tr><th scope=row>r3</th><td>3</td><td>6</td><td>9</td></tr>\n",
       "</tbody>\n",
       "</table>\n"
      ],
      "text/latex": [
       "A matrix: 3 × 3 of type int\n",
       "\\begin{tabular}{r|lll}\n",
       "  & c1 & c2 & c3\\\\\n",
       "\\hline\n",
       "\tr1 & 1 & 4 & 7\\\\\n",
       "\tr2 & 2 & 5 & 8\\\\\n",
       "\tr3 & 3 & 6 & 9\\\\\n",
       "\\end{tabular}\n"
      ],
      "text/markdown": [
       "\n",
       "A matrix: 3 × 3 of type int\n",
       "\n",
       "| <!--/--> | c1 | c2 | c3 |\n",
       "|---|---|---|---|\n",
       "| r1 | 1 | 4 | 7 |\n",
       "| r2 | 2 | 5 | 8 |\n",
       "| r3 | 3 | 6 | 9 |\n",
       "\n"
      ],
      "text/plain": [
       "   c1 c2 c3\n",
       "r1 1  4  7 \n",
       "r2 2  5  8 \n",
       "r3 3  6  9 "
      ]
     },
     "metadata": {},
     "output_type": "display_data"
    }
   ],
   "source": [
    "x = matrix(1:9,nrow=3,dimnames=list(c(\"r1\",\"r2\",\"r3\"),c(\"c1\",\"c2\",\"c3\")))\n",
    "x"
   ]
  },
  {
   "cell_type": "code",
   "execution_count": 27,
   "metadata": {},
   "outputs": [
    {
     "data": {
      "text/html": [
       "<table>\n",
       "<caption>A matrix: 3 × 3 of type dbl</caption>\n",
       "<thead>\n",
       "\t<tr><th></th><th scope=col>c1</th><th scope=col>c2</th><th scope=col>c3</th></tr>\n",
       "</thead>\n",
       "<tbody>\n",
       "\t<tr><th scope=row>r1</th><td>2</td><td>5</td><td> 8</td></tr>\n",
       "\t<tr><th scope=row>r2</th><td>3</td><td>6</td><td> 9</td></tr>\n",
       "\t<tr><th scope=row>r3</th><td>4</td><td>7</td><td>10</td></tr>\n",
       "</tbody>\n",
       "</table>\n"
      ],
      "text/latex": [
       "A matrix: 3 × 3 of type dbl\n",
       "\\begin{tabular}{r|lll}\n",
       "  & c1 & c2 & c3\\\\\n",
       "\\hline\n",
       "\tr1 & 2 & 5 &  8\\\\\n",
       "\tr2 & 3 & 6 &  9\\\\\n",
       "\tr3 & 4 & 7 & 10\\\\\n",
       "\\end{tabular}\n"
      ],
      "text/markdown": [
       "\n",
       "A matrix: 3 × 3 of type dbl\n",
       "\n",
       "| <!--/--> | c1 | c2 | c3 |\n",
       "|---|---|---|---|\n",
       "| r1 | 2 | 5 |  8 |\n",
       "| r2 | 3 | 6 |  9 |\n",
       "| r3 | 4 | 7 | 10 |\n",
       "\n"
      ],
      "text/plain": [
       "   c1 c2 c3\n",
       "r1 2  5   8\n",
       "r2 3  6   9\n",
       "r3 4  7  10"
      ]
     },
     "metadata": {},
     "output_type": "display_data"
    }
   ],
   "source": [
    "x+1"
   ]
  },
  {
   "cell_type": "code",
   "execution_count": 30,
   "metadata": {},
   "outputs": [
    {
     "data": {
      "text/html": [
       "<table>\n",
       "<caption>A matrix: 3 × 3 of type int</caption>\n",
       "<thead>\n",
       "\t<tr><th></th><th scope=col>c1</th><th scope=col>c2</th><th scope=col>c3</th></tr>\n",
       "</thead>\n",
       "<tbody>\n",
       "\t<tr><th scope=row>r1</th><td>2</td><td> 8</td><td>14</td></tr>\n",
       "\t<tr><th scope=row>r2</th><td>4</td><td>10</td><td>16</td></tr>\n",
       "\t<tr><th scope=row>r3</th><td>6</td><td>12</td><td>18</td></tr>\n",
       "</tbody>\n",
       "</table>\n"
      ],
      "text/latex": [
       "A matrix: 3 × 3 of type int\n",
       "\\begin{tabular}{r|lll}\n",
       "  & c1 & c2 & c3\\\\\n",
       "\\hline\n",
       "\tr1 & 2 &  8 & 14\\\\\n",
       "\tr2 & 4 & 10 & 16\\\\\n",
       "\tr3 & 6 & 12 & 18\\\\\n",
       "\\end{tabular}\n"
      ],
      "text/markdown": [
       "\n",
       "A matrix: 3 × 3 of type int\n",
       "\n",
       "| <!--/--> | c1 | c2 | c3 |\n",
       "|---|---|---|---|\n",
       "| r1 | 2 |  8 | 14 |\n",
       "| r2 | 4 | 10 | 16 |\n",
       "| r3 | 6 | 12 | 18 |\n",
       "\n"
      ],
      "text/plain": [
       "   c1 c2 c3\n",
       "r1 2   8 14\n",
       "r2 4  10 16\n",
       "r3 6  12 18"
      ]
     },
     "metadata": {},
     "output_type": "display_data"
    },
    {
     "data": {
      "text/html": [
       "<table>\n",
       "<caption>A matrix: 3 × 3 of type dbl</caption>\n",
       "<tbody>\n",
       "\t<tr><th scope=row>r1</th><td>30</td><td>66</td><td>102</td></tr>\n",
       "\t<tr><th scope=row>r2</th><td>36</td><td>81</td><td>126</td></tr>\n",
       "\t<tr><th scope=row>r3</th><td>42</td><td>96</td><td>150</td></tr>\n",
       "</tbody>\n",
       "</table>\n"
      ],
      "text/latex": [
       "A matrix: 3 × 3 of type dbl\n",
       "\\begin{tabular}{r|lll}\n",
       "\tr1 & 30 & 66 & 102\\\\\n",
       "\tr2 & 36 & 81 & 126\\\\\n",
       "\tr3 & 42 & 96 & 150\\\\\n",
       "\\end{tabular}\n"
      ],
      "text/markdown": [
       "\n",
       "A matrix: 3 × 3 of type dbl\n",
       "\n",
       "| r1 | 30 | 66 | 102 |\n",
       "| r2 | 36 | 81 | 126 |\n",
       "| r3 | 42 | 96 | 150 |\n",
       "\n"
      ],
      "text/plain": [
       "   [,1] [,2] [,3]\n",
       "r1 30   66   102 \n",
       "r2 36   81   126 \n",
       "r3 42   96   150 "
      ]
     },
     "metadata": {},
     "output_type": "display_data"
    }
   ],
   "source": [
    "y=matrix(1:9,nrow=3)\n",
    "x+y\n",
    "x%*%y"
   ]
  },
  {
   "cell_type": "code",
   "execution_count": 34,
   "metadata": {},
   "outputs": [
    {
     "data": {
      "text/html": [
       "<table>\n",
       "<caption>A matrix: 3 × 3 of type int</caption>\n",
       "<thead>\n",
       "\t<tr><th></th><th scope=col>r1</th><th scope=col>r2</th><th scope=col>r3</th></tr>\n",
       "</thead>\n",
       "<tbody>\n",
       "\t<tr><th scope=row>c1</th><td>1</td><td>2</td><td>3</td></tr>\n",
       "\t<tr><th scope=row>c2</th><td>4</td><td>5</td><td>6</td></tr>\n",
       "\t<tr><th scope=row>c3</th><td>7</td><td>8</td><td>9</td></tr>\n",
       "</tbody>\n",
       "</table>\n"
      ],
      "text/latex": [
       "A matrix: 3 × 3 of type int\n",
       "\\begin{tabular}{r|lll}\n",
       "  & r1 & r2 & r3\\\\\n",
       "\\hline\n",
       "\tc1 & 1 & 2 & 3\\\\\n",
       "\tc2 & 4 & 5 & 6\\\\\n",
       "\tc3 & 7 & 8 & 9\\\\\n",
       "\\end{tabular}\n"
      ],
      "text/markdown": [
       "\n",
       "A matrix: 3 × 3 of type int\n",
       "\n",
       "| <!--/--> | r1 | r2 | r3 |\n",
       "|---|---|---|---|\n",
       "| c1 | 1 | 2 | 3 |\n",
       "| c2 | 4 | 5 | 6 |\n",
       "| c3 | 7 | 8 | 9 |\n",
       "\n"
      ],
      "text/plain": [
       "   r1 r2 r3\n",
       "c1 1  2  3 \n",
       "c2 4  5  6 \n",
       "c3 7  8  9 "
      ]
     },
     "metadata": {},
     "output_type": "display_data"
    },
    {
     "data": {
      "text/html": [
       "3"
      ],
      "text/latex": [
       "3"
      ],
      "text/markdown": [
       "3"
      ],
      "text/plain": [
       "[1] 3"
      ]
     },
     "metadata": {},
     "output_type": "display_data"
    },
    {
     "data": {
      "text/html": [
       "<style>\n",
       ".list-inline {list-style: none; margin:0; padding: 0}\n",
       ".list-inline>li {display: inline-block}\n",
       ".list-inline>li:not(:last-child)::after {content: \"\\00b7\"; padding: 0 .5ex}\n",
       "</style>\n",
       "<ol class=list-inline><li>3</li><li>3</li></ol>\n"
      ],
      "text/latex": [
       "\\begin{enumerate*}\n",
       "\\item 3\n",
       "\\item 3\n",
       "\\end{enumerate*}\n"
      ],
      "text/markdown": [
       "1. 3\n",
       "2. 3\n",
       "\n",
       "\n"
      ],
      "text/plain": [
       "[1] 3 3"
      ]
     },
     "metadata": {},
     "output_type": "display_data"
    }
   ],
   "source": [
    "t(x)\n",
    "nrow(x)\n",
    "dim(x)"
   ]
  },
  {
   "cell_type": "markdown",
   "metadata": {},
   "source": [
    "- 배열\n",
    "> "
   ]
  },
  {
   "cell_type": "code",
   "execution_count": 35,
   "metadata": {},
   "outputs": [
    {
     "data": {
      "text/html": [
       "<table>\n",
       "<caption>A matrix: 3 × 4 of type int</caption>\n",
       "<tbody>\n",
       "\t<tr><td>1</td><td>4</td><td>7</td><td>10</td></tr>\n",
       "\t<tr><td>2</td><td>5</td><td>8</td><td>11</td></tr>\n",
       "\t<tr><td>3</td><td>6</td><td>9</td><td>12</td></tr>\n",
       "</tbody>\n",
       "</table>\n"
      ],
      "text/latex": [
       "A matrix: 3 × 4 of type int\n",
       "\\begin{tabular}{llll}\n",
       "\t 1 & 4 & 7 & 10\\\\\n",
       "\t 2 & 5 & 8 & 11\\\\\n",
       "\t 3 & 6 & 9 & 12\\\\\n",
       "\\end{tabular}\n"
      ],
      "text/markdown": [
       "\n",
       "A matrix: 3 × 4 of type int\n",
       "\n",
       "| 1 | 4 | 7 | 10 |\n",
       "| 2 | 5 | 8 | 11 |\n",
       "| 3 | 6 | 9 | 12 |\n",
       "\n"
      ],
      "text/plain": [
       "     [,1] [,2] [,3] [,4]\n",
       "[1,] 1    4    7    10  \n",
       "[2,] 2    5    8    11  \n",
       "[3,] 3    6    9    12  "
      ]
     },
     "metadata": {},
     "output_type": "display_data"
    }
   ],
   "source": [
    "array(1:12, dim=c(3, 4))"
   ]
  },
  {
   "cell_type": "code",
   "execution_count": 39,
   "metadata": {},
   "outputs": [
    {
     "data": {
      "text/html": [
       "<style>\n",
       ".list-inline {list-style: none; margin:0; padding: 0}\n",
       ".list-inline>li {display: inline-block}\n",
       ".list-inline>li:not(:last-child)::after {content: \"\\00b7\"; padding: 0 .5ex}\n",
       "</style>\n",
       "<ol class=list-inline><li>1</li><li>2</li><li>3</li><li>4</li><li>5</li><li>6</li><li>7</li><li>8</li><li>9</li><li>10</li><li>11</li><li>12</li></ol>\n"
      ],
      "text/latex": [
       "\\begin{enumerate*}\n",
       "\\item 1\n",
       "\\item 2\n",
       "\\item 3\n",
       "\\item 4\n",
       "\\item 5\n",
       "\\item 6\n",
       "\\item 7\n",
       "\\item 8\n",
       "\\item 9\n",
       "\\item 10\n",
       "\\item 11\n",
       "\\item 12\n",
       "\\end{enumerate*}\n"
      ],
      "text/markdown": [
       "1. 1\n",
       "2. 2\n",
       "3. 3\n",
       "4. 4\n",
       "5. 5\n",
       "6. 6\n",
       "7. 7\n",
       "8. 8\n",
       "9. 9\n",
       "10. 10\n",
       "11. 11\n",
       "12. 12\n",
       "\n",
       "\n"
      ],
      "text/plain": [
       ", , 1\n",
       "\n",
       "     [,1] [,2]\n",
       "[1,]    1    3\n",
       "[2,]    2    4\n",
       "\n",
       ", , 2\n",
       "\n",
       "     [,1] [,2]\n",
       "[1,]    5    7\n",
       "[2,]    6    8\n",
       "\n",
       ", , 3\n",
       "\n",
       "     [,1] [,2]\n",
       "[1,]    9   11\n",
       "[2,]   10   12\n"
      ]
     },
     "metadata": {},
     "output_type": "display_data"
    }
   ],
   "source": [
    "x=array(1:12,dim=c(2,2,3))\n",
    "x"
   ]
  },
  {
   "cell_type": "code",
   "execution_count": 46,
   "metadata": {},
   "outputs": [
    {
     "data": {
      "text/html": [
       "<table>\n",
       "<caption>A matrix: 2 × 2 of type int</caption>\n",
       "<tbody>\n",
       "\t<tr><td> 9</td><td>11</td></tr>\n",
       "\t<tr><td>10</td><td>12</td></tr>\n",
       "</tbody>\n",
       "</table>\n"
      ],
      "text/latex": [
       "A matrix: 2 × 2 of type int\n",
       "\\begin{tabular}{ll}\n",
       "\t  9 & 11\\\\\n",
       "\t 10 & 12\\\\\n",
       "\\end{tabular}\n"
      ],
      "text/markdown": [
       "\n",
       "A matrix: 2 × 2 of type int\n",
       "\n",
       "|  9 | 11 |\n",
       "| 10 | 12 |\n",
       "\n"
      ],
      "text/plain": [
       "     [,1] [,2]\n",
       "[1,]  9   11  \n",
       "[2,] 10   12  "
      ]
     },
     "metadata": {},
     "output_type": "display_data"
    },
    {
     "data": {
      "text/html": [
       "<style>\n",
       ".list-inline {list-style: none; margin:0; padding: 0}\n",
       ".list-inline>li {display: inline-block}\n",
       ".list-inline>li:not(:last-child)::after {content: \"\\00b7\"; padding: 0 .5ex}\n",
       "</style>\n",
       "<ol class=list-inline><li>1</li><li>5</li><li>9</li></ol>\n"
      ],
      "text/latex": [
       "\\begin{enumerate*}\n",
       "\\item 1\n",
       "\\item 5\n",
       "\\item 9\n",
       "\\end{enumerate*}\n"
      ],
      "text/markdown": [
       "1. 1\n",
       "2. 5\n",
       "3. 9\n",
       "\n",
       "\n"
      ],
      "text/plain": [
       "[1] 1 5 9"
      ]
     },
     "metadata": {},
     "output_type": "display_data"
    },
    {
     "data": {
      "text/html": [
       "<style>\n",
       ".list-inline {list-style: none; margin:0; padding: 0}\n",
       ".list-inline>li {display: inline-block}\n",
       ".list-inline>li:not(:last-child)::after {content: \"\\00b7\"; padding: 0 .5ex}\n",
       "</style>\n",
       "<ol class=list-inline><li>2</li><li>2</li><li>3</li></ol>\n"
      ],
      "text/latex": [
       "\\begin{enumerate*}\n",
       "\\item 2\n",
       "\\item 2\n",
       "\\item 3\n",
       "\\end{enumerate*}\n"
      ],
      "text/markdown": [
       "1. 2\n",
       "2. 2\n",
       "3. 3\n",
       "\n",
       "\n"
      ],
      "text/plain": [
       "[1] 2 2 3"
      ]
     },
     "metadata": {},
     "output_type": "display_data"
    }
   ],
   "source": [
    "x[,,3]\n",
    "x[1,1,]\n",
    "dim(x)"
   ]
  },
  {
   "cell_type": "markdown",
   "metadata": {},
   "source": [
    "- 데이터프레임\n",
    "> "
   ]
  },
  {
   "cell_type": "code",
   "execution_count": 49,
   "metadata": {},
   "outputs": [
    {
     "data": {
      "text/html": [
       "<table>\n",
       "<caption>A data.frame: 5 × 3</caption>\n",
       "<thead>\n",
       "\t<tr><th scope=col>x</th><th scope=col>y</th><th scope=col>z</th></tr>\n",
       "\t<tr><th scope=col>&lt;dbl&gt;</th><th scope=col>&lt;dbl&gt;</th><th scope=col>&lt;chr&gt;</th></tr>\n",
       "</thead>\n",
       "<tbody>\n",
       "\t<tr><td>1</td><td> 2</td><td>M</td></tr>\n",
       "\t<tr><td>2</td><td> 4</td><td>F</td></tr>\n",
       "\t<tr><td>3</td><td> 6</td><td>M</td></tr>\n",
       "\t<tr><td>4</td><td> 8</td><td>F</td></tr>\n",
       "\t<tr><td>5</td><td>10</td><td>M</td></tr>\n",
       "</tbody>\n",
       "</table>\n"
      ],
      "text/latex": [
       "A data.frame: 5 × 3\n",
       "\\begin{tabular}{lll}\n",
       " x & y & z\\\\\n",
       " <dbl> & <dbl> & <chr>\\\\\n",
       "\\hline\n",
       "\t 1 &  2 & M\\\\\n",
       "\t 2 &  4 & F\\\\\n",
       "\t 3 &  6 & M\\\\\n",
       "\t 4 &  8 & F\\\\\n",
       "\t 5 & 10 & M\\\\\n",
       "\\end{tabular}\n"
      ],
      "text/markdown": [
       "\n",
       "A data.frame: 5 × 3\n",
       "\n",
       "| x &lt;dbl&gt; | y &lt;dbl&gt; | z &lt;chr&gt; |\n",
       "|---|---|---|\n",
       "| 1 |  2 | M |\n",
       "| 2 |  4 | F |\n",
       "| 3 |  6 | M |\n",
       "| 4 |  8 | F |\n",
       "| 5 | 10 | M |\n",
       "\n"
      ],
      "text/plain": [
       "  x y  z\n",
       "1 1  2 M\n",
       "2 2  4 F\n",
       "3 3  6 M\n",
       "4 4  8 F\n",
       "5 5 10 M"
      ]
     },
     "metadata": {},
     "output_type": "display_data"
    }
   ],
   "source": [
    "(d <- data.frame(x=c(1, 2, 3, 4, 5), y=c(2, 4, 6, 8, 10), z=c('M', 'F', 'M', 'F', 'M')))"
   ]
  },
  {
   "cell_type": "code",
   "execution_count": 60,
   "metadata": {},
   "outputs": [
    {
     "data": {
      "text/html": [
       "<style>\n",
       ".list-inline {list-style: none; margin:0; padding: 0}\n",
       ".list-inline>li {display: inline-block}\n",
       ".list-inline>li:not(:last-child)::after {content: \"\\00b7\"; padding: 0 .5ex}\n",
       "</style>\n",
       "<ol class=list-inline><li>1</li><li>2</li><li>3</li><li>4</li><li>5</li></ol>\n"
      ],
      "text/latex": [
       "\\begin{enumerate*}\n",
       "\\item 1\n",
       "\\item 2\n",
       "\\item 3\n",
       "\\item 4\n",
       "\\item 5\n",
       "\\end{enumerate*}\n"
      ],
      "text/markdown": [
       "1. 1\n",
       "2. 2\n",
       "3. 3\n",
       "4. 4\n",
       "5. 5\n",
       "\n",
       "\n"
      ],
      "text/plain": [
       "[1] 1 2 3 4 5"
      ]
     },
     "metadata": {},
     "output_type": "display_data"
    }
   ],
   "source": [
    "d$x"
   ]
  },
  {
   "cell_type": "code",
   "execution_count": 61,
   "metadata": {},
   "outputs": [
    {
     "data": {
      "text/html": [
       "<style>\n",
       ".list-inline {list-style: none; margin:0; padding: 0}\n",
       ".list-inline>li {display: inline-block}\n",
       ".list-inline>li:not(:last-child)::after {content: \"\\00b7\"; padding: 0 .5ex}\n",
       "</style>\n",
       "<ol class=list-inline><li>1</li><li>2</li><li>3</li><li>4</li><li>5</li></ol>\n"
      ],
      "text/latex": [
       "\\begin{enumerate*}\n",
       "\\item 1\n",
       "\\item 2\n",
       "\\item 3\n",
       "\\item 4\n",
       "\\item 5\n",
       "\\end{enumerate*}\n"
      ],
      "text/markdown": [
       "1. 1\n",
       "2. 2\n",
       "3. 3\n",
       "4. 4\n",
       "5. 5\n",
       "\n",
       "\n"
      ],
      "text/plain": [
       "[1] 1 2 3 4 5"
      ]
     },
     "metadata": {},
     "output_type": "display_data"
    }
   ],
   "source": [
    "d[,1]"
   ]
  },
  {
   "cell_type": "code",
   "execution_count": 65,
   "metadata": {},
   "outputs": [
    {
     "data": {
      "text/html": [
       "<table>\n",
       "<caption>A data.frame: 5 × 1</caption>\n",
       "<thead>\n",
       "\t<tr><th scope=col>x</th></tr>\n",
       "\t<tr><th scope=col>&lt;dbl&gt;</th></tr>\n",
       "</thead>\n",
       "<tbody>\n",
       "\t<tr><td>1</td></tr>\n",
       "\t<tr><td>2</td></tr>\n",
       "\t<tr><td>3</td></tr>\n",
       "\t<tr><td>4</td></tr>\n",
       "\t<tr><td>5</td></tr>\n",
       "</tbody>\n",
       "</table>\n"
      ],
      "text/latex": [
       "A data.frame: 5 × 1\n",
       "\\begin{tabular}{l}\n",
       " x\\\\\n",
       " <dbl>\\\\\n",
       "\\hline\n",
       "\t 1\\\\\n",
       "\t 2\\\\\n",
       "\t 3\\\\\n",
       "\t 4\\\\\n",
       "\t 5\\\\\n",
       "\\end{tabular}\n"
      ],
      "text/markdown": [
       "\n",
       "A data.frame: 5 × 1\n",
       "\n",
       "| x &lt;dbl&gt; |\n",
       "|---|\n",
       "| 1 |\n",
       "| 2 |\n",
       "| 3 |\n",
       "| 4 |\n",
       "| 5 |\n",
       "\n"
      ],
      "text/plain": [
       "  x\n",
       "1 1\n",
       "2 2\n",
       "3 3\n",
       "4 4\n",
       "5 5"
      ]
     },
     "metadata": {},
     "output_type": "display_data"
    }
   ],
   "source": [
    "d[,1,drop=FALSE]"
   ]
  },
  {
   "cell_type": "code",
   "execution_count": 62,
   "metadata": {},
   "outputs": [
    {
     "data": {
      "text/html": [
       "<table>\n",
       "<caption>A data.frame: 1 × 3</caption>\n",
       "<thead>\n",
       "\t<tr><th></th><th scope=col>x</th><th scope=col>y</th><th scope=col>z</th></tr>\n",
       "\t<tr><th></th><th scope=col>&lt;dbl&gt;</th><th scope=col>&lt;dbl&gt;</th><th scope=col>&lt;chr&gt;</th></tr>\n",
       "</thead>\n",
       "<tbody>\n",
       "\t<tr><th scope=row>1</th><td>1</td><td>2</td><td>M</td></tr>\n",
       "</tbody>\n",
       "</table>\n"
      ],
      "text/latex": [
       "A data.frame: 1 × 3\n",
       "\\begin{tabular}{r|lll}\n",
       "  & x & y & z\\\\\n",
       "  & <dbl> & <dbl> & <chr>\\\\\n",
       "\\hline\n",
       "\t1 & 1 & 2 & M\\\\\n",
       "\\end{tabular}\n"
      ],
      "text/markdown": [
       "\n",
       "A data.frame: 1 × 3\n",
       "\n",
       "| <!--/--> | x &lt;dbl&gt; | y &lt;dbl&gt; | z &lt;chr&gt; |\n",
       "|---|---|---|---|\n",
       "| 1 | 1 | 2 | M |\n",
       "\n"
      ],
      "text/plain": [
       "  x y z\n",
       "1 1 2 M"
      ]
     },
     "metadata": {},
     "output_type": "display_data"
    }
   ],
   "source": [
    "d[1,]"
   ]
  },
  {
   "cell_type": "code",
   "execution_count": 63,
   "metadata": {},
   "outputs": [
    {
     "data": {
      "text/html": [
       "<style>\n",
       ".list-inline {list-style: none; margin:0; padding: 0}\n",
       ".list-inline>li {display: inline-block}\n",
       ".list-inline>li:not(:last-child)::after {content: \"\\00b7\"; padding: 0 .5ex}\n",
       "</style>\n",
       "<ol class=list-inline><li>2</li><li>6</li></ol>\n"
      ],
      "text/latex": [
       "\\begin{enumerate*}\n",
       "\\item 2\n",
       "\\item 6\n",
       "\\end{enumerate*}\n"
      ],
      "text/markdown": [
       "1. 2\n",
       "2. 6\n",
       "\n",
       "\n"
      ],
      "text/plain": [
       "[1] 2 6"
      ]
     },
     "metadata": {},
     "output_type": "display_data"
    }
   ],
   "source": [
    "d[c(1, 3), 2]"
   ]
  },
  {
   "cell_type": "code",
   "execution_count": 59,
   "metadata": {},
   "outputs": [
    {
     "data": {
      "text/html": [
       "<table>\n",
       "<caption>A data.frame: 5 × 2</caption>\n",
       "<thead>\n",
       "\t<tr><th scope=col>x</th><th scope=col>z</th></tr>\n",
       "\t<tr><th scope=col>&lt;dbl&gt;</th><th scope=col>&lt;chr&gt;</th></tr>\n",
       "</thead>\n",
       "<tbody>\n",
       "\t<tr><td>1</td><td>M</td></tr>\n",
       "\t<tr><td>2</td><td>F</td></tr>\n",
       "\t<tr><td>3</td><td>M</td></tr>\n",
       "\t<tr><td>4</td><td>F</td></tr>\n",
       "\t<tr><td>5</td><td>M</td></tr>\n",
       "</tbody>\n",
       "</table>\n"
      ],
      "text/latex": [
       "A data.frame: 5 × 2\n",
       "\\begin{tabular}{ll}\n",
       " x & z\\\\\n",
       " <dbl> & <chr>\\\\\n",
       "\\hline\n",
       "\t 1 & M\\\\\n",
       "\t 2 & F\\\\\n",
       "\t 3 & M\\\\\n",
       "\t 4 & F\\\\\n",
       "\t 5 & M\\\\\n",
       "\\end{tabular}\n"
      ],
      "text/markdown": [
       "\n",
       "A data.frame: 5 × 2\n",
       "\n",
       "| x &lt;dbl&gt; | z &lt;chr&gt; |\n",
       "|---|---|\n",
       "| 1 | M |\n",
       "| 2 | F |\n",
       "| 3 | M |\n",
       "| 4 | F |\n",
       "| 5 | M |\n",
       "\n"
      ],
      "text/plain": [
       "  x z\n",
       "1 1 M\n",
       "2 2 F\n",
       "3 3 M\n",
       "4 4 F\n",
       "5 5 M"
      ]
     },
     "metadata": {},
     "output_type": "display_data"
    }
   ],
   "source": [
    "d[, c(\"x\", \"z\")]"
   ]
  },
  {
   "cell_type": "code",
   "execution_count": 64,
   "metadata": {},
   "outputs": [
    {
     "name": "stdout",
     "output_type": "stream",
     "text": [
      "'data.frame':\t5 obs. of  3 variables:\n",
      " $ x: num  1 2 3 4 5\n",
      " $ y: num  2 4 6 8 10\n",
      " $ z: chr  \"M\" \"F\" \"M\" \"F\" ...\n"
     ]
    }
   ],
   "source": [
    "str(d)"
   ]
  },
  {
   "cell_type": "markdown",
   "metadata": {},
   "source": [
    "### 데이터 타입 판별\n",
    "|함수|의미|\n",
    "|-|-|\n",
    "|class(x)|객체 x의 클래스|\n",
    "|str(x)|x의 내부구조|\n",
    "|is 시리즈|.factor(x),numeric,character,matrix,array,data.frame|"
   ]
  },
  {
   "cell_type": "markdown",
   "metadata": {},
   "source": [
    "### 타입 변환\n",
    "|함수|의미|\n",
    "|-|-|\n",
    "|as 시리즈|.factor(x),numeric,character,matrix,array,data.frame|"
   ]
  },
  {
   "cell_type": "markdown",
   "metadata": {},
   "source": [
    "  \n",
    "  \n",
    "# 3장"
   ]
  },
  {
   "cell_type": "markdown",
   "metadata": {},
   "source": [
    "## 흐름제어\n",
    "\n",
    "### if문"
   ]
  },
  {
   "cell_type": "code",
   "execution_count": 66,
   "metadata": {},
   "outputs": [
    {
     "data": {
      "text/html": [
       "<style>\n",
       ".list-inline {list-style: none; margin:0; padding: 0}\n",
       ".list-inline>li {display: inline-block}\n",
       ".list-inline>li:not(:last-child)::after {content: \"\\00b7\"; padding: 0 .5ex}\n",
       "</style>\n",
       "<ol class=list-inline><li>'odd'</li><li>'even'</li><li>'odd'</li><li>'even'</li><li>'odd'</li></ol>\n"
      ],
      "text/latex": [
       "\\begin{enumerate*}\n",
       "\\item 'odd'\n",
       "\\item 'even'\n",
       "\\item 'odd'\n",
       "\\item 'even'\n",
       "\\item 'odd'\n",
       "\\end{enumerate*}\n"
      ],
      "text/markdown": [
       "1. 'odd'\n",
       "2. 'even'\n",
       "3. 'odd'\n",
       "4. 'even'\n",
       "5. 'odd'\n",
       "\n",
       "\n"
      ],
      "text/plain": [
       "[1] \"odd\"  \"even\" \"odd\"  \"even\" \"odd\" "
      ]
     },
     "metadata": {},
     "output_type": "display_data"
    }
   ],
   "source": [
    "x =c(1:5)\n",
    "ifelse(x%%2 == 0, \"even\",\"odd\")"
   ]
  },
  {
   "cell_type": "markdown",
   "metadata": {},
   "source": [
    "### for, while, repeat 문"
   ]
  },
  {
   "cell_type": "code",
   "execution_count": 67,
   "metadata": {},
   "outputs": [
    {
     "name": "stdout",
     "output_type": "stream",
     "text": [
      "[1] 1\n",
      "[1] 2\n",
      "[1] 3\n",
      "[1] 4\n",
      "[1] 5\n",
      "[1] 6\n",
      "[1] 7\n",
      "[1] 8\n",
      "[1] 9\n",
      "[1] 10\n"
     ]
    }
   ],
   "source": [
    "for (i in 1:10){\n",
    "    print(i)\n",
    "}"
   ]
  },
  {
   "cell_type": "code",
   "execution_count": 69,
   "metadata": {},
   "outputs": [
    {
     "name": "stdout",
     "output_type": "stream",
     "text": [
      "[1] 1\n",
      "[1] 2\n",
      "[1] 3\n",
      "[1] 4\n",
      "[1] 5\n",
      "[1] 6\n",
      "[1] 7\n",
      "[1] 8\n",
      "[1] 9\n",
      "[1] 10\n"
     ]
    }
   ],
   "source": [
    "i =1 \n",
    "while(i<=10){\n",
    "    print(i)\n",
    "    i=i+1\n",
    "}"
   ]
  },
  {
   "cell_type": "code",
   "execution_count": 70,
   "metadata": {},
   "outputs": [
    {
     "name": "stdout",
     "output_type": "stream",
     "text": [
      "[1] 1\n",
      "[1] 2\n",
      "[1] 3\n",
      "[1] 4\n",
      "[1] 5\n",
      "[1] 6\n",
      "[1] 7\n",
      "[1] 8\n",
      "[1] 9\n",
      "[1] 10\n"
     ]
    }
   ],
   "source": [
    "i=1\n",
    "repeat{\n",
    "    print(i)\n",
    "    if(i>=10){\n",
    "        break;\n",
    "    }\n",
    "    i = i+1\n",
    "}"
   ]
  },
  {
   "cell_type": "markdown",
   "metadata": {},
   "source": [
    "## 연산\n",
    "- 수치연산\n",
    "- 벡터연산\n",
    "- NA처리"
   ]
  },
  {
   "cell_type": "markdown",
   "metadata": {},
   "source": [
    "### 수치연산\n",
    "|연산자와함수|의미|\n",
    "|-|-|\n",
    "|+ - * /| 사칙연산|\n",
    "|n %% m|n을 m으로 나눈 나머지|\n",
    "|n%/%m|n을m으로 나눈 몫|\n",
    "|n^m|n의 m승|\n",
    "|exp(n)|e의n승|"
   ]
  },
  {
   "cell_type": "code",
   "execution_count": 72,
   "metadata": {},
   "outputs": [
    {
     "data": {
      "text/html": [
       "<style>\n",
       ".list-inline {list-style: none; margin:0; padding: 0}\n",
       ".list-inline>li {display: inline-block}\n",
       ".list-inline>li:not(:last-child)::after {content: \"\\00b7\"; padding: 0 .5ex}\n",
       "</style>\n",
       "<ol class=list-inline><li>3</li><li>5</li><li>7</li><li>9</li><li>11</li></ol>\n"
      ],
      "text/latex": [
       "\\begin{enumerate*}\n",
       "\\item 3\n",
       "\\item 5\n",
       "\\item 7\n",
       "\\item 9\n",
       "\\item 11\n",
       "\\end{enumerate*}\n"
      ],
      "text/markdown": [
       "1. 3\n",
       "2. 5\n",
       "3. 7\n",
       "4. 9\n",
       "5. 11\n",
       "\n",
       "\n"
      ],
      "text/plain": [
       "[1]  3  5  7  9 11"
      ]
     },
     "metadata": {},
     "output_type": "display_data"
    }
   ],
   "source": [
    "1:5 *2 +1"
   ]
  },
  {
   "cell_type": "markdown",
   "metadata": {},
   "source": [
    "### 벡터연산"
   ]
  },
  {
   "cell_type": "code",
   "execution_count": 73,
   "metadata": {},
   "outputs": [],
   "source": [
    "x <- c(1, 2, 3, 4, 5)"
   ]
  },
  {
   "cell_type": "code",
   "execution_count": 74,
   "metadata": {},
   "outputs": [
    {
     "data": {
      "text/html": [
       "<style>\n",
       ".list-inline {list-style: none; margin:0; padding: 0}\n",
       ".list-inline>li {display: inline-block}\n",
       ".list-inline>li:not(:last-child)::after {content: \"\\00b7\"; padding: 0 .5ex}\n",
       "</style>\n",
       "<ol class=list-inline><li>2</li><li>4</li><li>6</li><li>8</li><li>10</li></ol>\n"
      ],
      "text/latex": [
       "\\begin{enumerate*}\n",
       "\\item 2\n",
       "\\item 4\n",
       "\\item 6\n",
       "\\item 8\n",
       "\\item 10\n",
       "\\end{enumerate*}\n"
      ],
      "text/markdown": [
       "1. 2\n",
       "2. 4\n",
       "3. 6\n",
       "4. 8\n",
       "5. 10\n",
       "\n",
       "\n"
      ],
      "text/plain": [
       "[1]  2  4  6  8 10"
      ]
     },
     "metadata": {},
     "output_type": "display_data"
    }
   ],
   "source": [
    "x+x"
   ]
  },
  {
   "cell_type": "code",
   "execution_count": 75,
   "metadata": {},
   "outputs": [
    {
     "data": {
      "text/html": [
       "<style>\n",
       ".list-inline {list-style: none; margin:0; padding: 0}\n",
       ".list-inline>li {display: inline-block}\n",
       ".list-inline>li:not(:last-child)::after {content: \"\\00b7\"; padding: 0 .5ex}\n",
       "</style>\n",
       "<ol class=list-inline><li>TRUE</li><li>TRUE</li><li>TRUE</li><li>TRUE</li><li>TRUE</li></ol>\n"
      ],
      "text/latex": [
       "\\begin{enumerate*}\n",
       "\\item TRUE\n",
       "\\item TRUE\n",
       "\\item TRUE\n",
       "\\item TRUE\n",
       "\\item TRUE\n",
       "\\end{enumerate*}\n"
      ],
      "text/markdown": [
       "1. TRUE\n",
       "2. TRUE\n",
       "3. TRUE\n",
       "4. TRUE\n",
       "5. TRUE\n",
       "\n",
       "\n"
      ],
      "text/plain": [
       "[1] TRUE TRUE TRUE TRUE TRUE"
      ]
     },
     "metadata": {},
     "output_type": "display_data"
    }
   ],
   "source": [
    "x == x"
   ]
  },
  {
   "cell_type": "code",
   "execution_count": 76,
   "metadata": {},
   "outputs": [
    {
     "data": {
      "text/html": [
       "<style>\n",
       ".list-inline {list-style: none; margin:0; padding: 0}\n",
       ".list-inline>li {display: inline-block}\n",
       ".list-inline>li:not(:last-child)::after {content: \"\\00b7\"; padding: 0 .5ex}\n",
       "</style>\n",
       "<ol class=list-inline><li>TRUE</li><li>TRUE</li><li>TRUE</li><li>FALSE</li><li>TRUE</li></ol>\n"
      ],
      "text/latex": [
       "\\begin{enumerate*}\n",
       "\\item TRUE\n",
       "\\item TRUE\n",
       "\\item TRUE\n",
       "\\item FALSE\n",
       "\\item TRUE\n",
       "\\end{enumerate*}\n"
      ],
      "text/markdown": [
       "1. TRUE\n",
       "2. TRUE\n",
       "3. TRUE\n",
       "4. FALSE\n",
       "5. TRUE\n",
       "\n",
       "\n"
      ],
      "text/plain": [
       "[1]  TRUE  TRUE  TRUE FALSE  TRUE"
      ]
     },
     "metadata": {},
     "output_type": "display_data"
    }
   ],
   "source": [
    "x == c(1,2,3,5,5)"
   ]
  },
  {
   "cell_type": "code",
   "execution_count": 77,
   "metadata": {},
   "outputs": [
    {
     "data": {
      "text/html": [
       "15"
      ],
      "text/latex": [
       "15"
      ],
      "text/markdown": [
       "15"
      ],
      "text/plain": [
       "[1] 15"
      ]
     },
     "metadata": {},
     "output_type": "display_data"
    }
   ],
   "source": [
    "sum(x)"
   ]
  },
  {
   "cell_type": "code",
   "execution_count": 78,
   "metadata": {},
   "outputs": [
    {
     "data": {
      "text/html": [
       "3"
      ],
      "text/latex": [
       "3"
      ],
      "text/markdown": [
       "3"
      ],
      "text/plain": [
       "[1] 3"
      ]
     },
     "metadata": {},
     "output_type": "display_data"
    }
   ],
   "source": [
    "mean(x)"
   ]
  },
  {
   "cell_type": "code",
   "execution_count": 79,
   "metadata": {},
   "outputs": [
    {
     "data": {
      "text/html": [
       "3"
      ],
      "text/latex": [
       "3"
      ],
      "text/markdown": [
       "3"
      ],
      "text/plain": [
       "[1] 3"
      ]
     },
     "metadata": {},
     "output_type": "display_data"
    }
   ],
   "source": [
    "median(x)"
   ]
  },
  {
   "cell_type": "code",
   "execution_count": 82,
   "metadata": {},
   "outputs": [
    {
     "data": {
      "text/html": [
       "<table>\n",
       "<caption>A data.frame: 3 × 2</caption>\n",
       "<thead>\n",
       "\t<tr><th></th><th scope=col>x</th><th scope=col>y</th></tr>\n",
       "\t<tr><th></th><th scope=col>&lt;dbl&gt;</th><th scope=col>&lt;chr&gt;</th></tr>\n",
       "</thead>\n",
       "<tbody>\n",
       "\t<tr><th scope=row>1</th><td>1</td><td>a</td></tr>\n",
       "\t<tr><th scope=row>2</th><td>2</td><td>b</td></tr>\n",
       "\t<tr><th scope=row>5</th><td>5</td><td>e</td></tr>\n",
       "</tbody>\n",
       "</table>\n"
      ],
      "text/latex": [
       "A data.frame: 3 × 2\n",
       "\\begin{tabular}{r|ll}\n",
       "  & x & y\\\\\n",
       "  & <dbl> & <chr>\\\\\n",
       "\\hline\n",
       "\t1 & 1 & a\\\\\n",
       "\t2 & 2 & b\\\\\n",
       "\t5 & 5 & e\\\\\n",
       "\\end{tabular}\n"
      ],
      "text/markdown": [
       "\n",
       "A data.frame: 3 × 2\n",
       "\n",
       "| <!--/--> | x &lt;dbl&gt; | y &lt;chr&gt; |\n",
       "|---|---|---|\n",
       "| 1 | 1 | a |\n",
       "| 2 | 2 | b |\n",
       "| 5 | 5 | e |\n",
       "\n"
      ],
      "text/plain": [
       "  x y\n",
       "1 1 a\n",
       "2 2 b\n",
       "5 5 e"
      ]
     },
     "metadata": {},
     "output_type": "display_data"
    }
   ],
   "source": [
    "d <- data.frame(x=c(1, 2, 3, 4, 5), y=c(\"a\", \"b\", \"c\", \"d\", \"e\"))\n",
    "d[c(TRUE,TRUE,FALSE,FALSE,TRUE),]"
   ]
  },
  {
   "cell_type": "markdown",
   "metadata": {},
   "source": [
    "### NA의 처리\n",
    "|함수|의미|\n",
    "|-|-|\n",
    "|na.omit|NA가 있으면 제외|\n",
    "|na.pass|NA가 있어도 통과|"
   ]
  },
  {
   "cell_type": "code",
   "execution_count": 83,
   "metadata": {},
   "outputs": [
    {
     "data": {
      "text/html": [
       "&lt;NA&gt;"
      ],
      "text/latex": [
       "<NA>"
      ],
      "text/markdown": [
       "&lt;NA&gt;"
      ],
      "text/plain": [
       "[1] NA"
      ]
     },
     "metadata": {},
     "output_type": "display_data"
    },
    {
     "data": {
      "text/html": [
       "&lt;NA&gt;"
      ],
      "text/latex": [
       "<NA>"
      ],
      "text/markdown": [
       "&lt;NA&gt;"
      ],
      "text/plain": [
       "[1] NA"
      ]
     },
     "metadata": {},
     "output_type": "display_data"
    }
   ],
   "source": [
    "NA & TRUE\n",
    "NA +1"
   ]
  },
  {
   "cell_type": "code",
   "execution_count": 84,
   "metadata": {},
   "outputs": [
    {
     "data": {
      "text/html": [
       "&lt;NA&gt;"
      ],
      "text/latex": [
       "<NA>"
      ],
      "text/markdown": [
       "&lt;NA&gt;"
      ],
      "text/plain": [
       "[1] NA"
      ]
     },
     "metadata": {},
     "output_type": "display_data"
    },
    {
     "data": {
      "text/html": [
       "6"
      ],
      "text/latex": [
       "6"
      ],
      "text/markdown": [
       "6"
      ],
      "text/plain": [
       "[1] 6"
      ]
     },
     "metadata": {},
     "output_type": "display_data"
    }
   ],
   "source": [
    "sum(c(1, 2, 3, NA))\n",
    "sum(c(1, 2, 3, NA),na.rm=TRUE)"
   ]
  },
  {
   "cell_type": "code",
   "execution_count": 85,
   "metadata": {},
   "outputs": [],
   "source": [
    "x <- data.frame(a=c(1, 2, 3), b=c(\"a\", NA , \"c\"), c=c(\"a\", \"b\", NA))"
   ]
  },
  {
   "cell_type": "code",
   "execution_count": 88,
   "metadata": {},
   "outputs": [
    {
     "data": {
      "text/html": [
       "<table>\n",
       "<caption>A data.frame: 3 × 3</caption>\n",
       "<thead>\n",
       "\t<tr><th scope=col>a</th><th scope=col>b</th><th scope=col>c</th></tr>\n",
       "\t<tr><th scope=col>&lt;dbl&gt;</th><th scope=col>&lt;chr&gt;</th><th scope=col>&lt;chr&gt;</th></tr>\n",
       "</thead>\n",
       "<tbody>\n",
       "\t<tr><td>1</td><td>a </td><td>a </td></tr>\n",
       "\t<tr><td>2</td><td>NA</td><td>b </td></tr>\n",
       "\t<tr><td>3</td><td>c </td><td>NA</td></tr>\n",
       "</tbody>\n",
       "</table>\n"
      ],
      "text/latex": [
       "A data.frame: 3 × 3\n",
       "\\begin{tabular}{lll}\n",
       " a & b & c\\\\\n",
       " <dbl> & <chr> & <chr>\\\\\n",
       "\\hline\n",
       "\t 1 & a  & a \\\\\n",
       "\t 2 & NA & b \\\\\n",
       "\t 3 & c  & NA\\\\\n",
       "\\end{tabular}\n"
      ],
      "text/markdown": [
       "\n",
       "A data.frame: 3 × 3\n",
       "\n",
       "| a &lt;dbl&gt; | b &lt;chr&gt; | c &lt;chr&gt; |\n",
       "|---|---|---|\n",
       "| 1 | a  | a  |\n",
       "| 2 | NA | b  |\n",
       "| 3 | c  | NA |\n",
       "\n"
      ],
      "text/plain": [
       "  a b  c \n",
       "1 1 a  a \n",
       "2 2 NA b \n",
       "3 3 c  NA"
      ]
     },
     "metadata": {},
     "output_type": "display_data"
    }
   ],
   "source": [
    "x"
   ]
  },
  {
   "cell_type": "code",
   "execution_count": 86,
   "metadata": {},
   "outputs": [
    {
     "data": {
      "text/html": [
       "<table>\n",
       "<caption>A data.frame: 1 × 3</caption>\n",
       "<thead>\n",
       "\t<tr><th></th><th scope=col>a</th><th scope=col>b</th><th scope=col>c</th></tr>\n",
       "\t<tr><th></th><th scope=col>&lt;dbl&gt;</th><th scope=col>&lt;chr&gt;</th><th scope=col>&lt;chr&gt;</th></tr>\n",
       "</thead>\n",
       "<tbody>\n",
       "\t<tr><th scope=row>1</th><td>1</td><td>a</td><td>a</td></tr>\n",
       "</tbody>\n",
       "</table>\n"
      ],
      "text/latex": [
       "A data.frame: 1 × 3\n",
       "\\begin{tabular}{r|lll}\n",
       "  & a & b & c\\\\\n",
       "  & <dbl> & <chr> & <chr>\\\\\n",
       "\\hline\n",
       "\t1 & 1 & a & a\\\\\n",
       "\\end{tabular}\n"
      ],
      "text/markdown": [
       "\n",
       "A data.frame: 1 × 3\n",
       "\n",
       "| <!--/--> | a &lt;dbl&gt; | b &lt;chr&gt; | c &lt;chr&gt; |\n",
       "|---|---|---|---|\n",
       "| 1 | 1 | a | a |\n",
       "\n"
      ],
      "text/plain": [
       "  a b c\n",
       "1 1 a a"
      ]
     },
     "metadata": {},
     "output_type": "display_data"
    }
   ],
   "source": [
    "na.omit(x)"
   ]
  },
  {
   "cell_type": "code",
   "execution_count": 87,
   "metadata": {},
   "outputs": [
    {
     "data": {
      "text/html": [
       "<table>\n",
       "<caption>A data.frame: 3 × 3</caption>\n",
       "<thead>\n",
       "\t<tr><th scope=col>a</th><th scope=col>b</th><th scope=col>c</th></tr>\n",
       "\t<tr><th scope=col>&lt;dbl&gt;</th><th scope=col>&lt;chr&gt;</th><th scope=col>&lt;chr&gt;</th></tr>\n",
       "</thead>\n",
       "<tbody>\n",
       "\t<tr><td>1</td><td>a </td><td>a </td></tr>\n",
       "\t<tr><td>2</td><td>NA</td><td>b </td></tr>\n",
       "\t<tr><td>3</td><td>c </td><td>NA</td></tr>\n",
       "</tbody>\n",
       "</table>\n"
      ],
      "text/latex": [
       "A data.frame: 3 × 3\n",
       "\\begin{tabular}{lll}\n",
       " a & b & c\\\\\n",
       " <dbl> & <chr> & <chr>\\\\\n",
       "\\hline\n",
       "\t 1 & a  & a \\\\\n",
       "\t 2 & NA & b \\\\\n",
       "\t 3 & c  & NA\\\\\n",
       "\\end{tabular}\n"
      ],
      "text/markdown": [
       "\n",
       "A data.frame: 3 × 3\n",
       "\n",
       "| a &lt;dbl&gt; | b &lt;chr&gt; | c &lt;chr&gt; |\n",
       "|---|---|---|\n",
       "| 1 | a  | a  |\n",
       "| 2 | NA | b  |\n",
       "| 3 | c  | NA |\n",
       "\n"
      ],
      "text/plain": [
       "  a b  c \n",
       "1 1 a  a \n",
       "2 2 NA b \n",
       "3 3 c  NA"
      ]
     },
     "metadata": {},
     "output_type": "display_data"
    }
   ],
   "source": [
    "na.pass(x)"
   ]
  },
  {
   "cell_type": "markdown",
   "metadata": {},
   "source": [
    "#### 라이브러리 공부"
   ]
  },
  {
   "cell_type": "markdown",
   "metadata": {},
   "source": [
    "- plyr\n",
    "> 데이터 분할, 적용, 조합, 세 단계로 데이터를 처리하는 함수 제공\n",
    "> 배열, 데이터프레임, 리스트에 적용"
   ]
  },
  {
   "cell_type": "markdown",
   "metadata": {},
   "source": [
    "adply() : apply()와 동일하지만, apply()는 `벡터`를 리턴 / adply()는 `데이터프레임`으로 리턴"
   ]
  },
  {
   "cell_type": "code",
   "execution_count": 94,
   "metadata": {},
   "outputs": [],
   "source": [
    "library(plyr)\n",
    "library(googleVis)"
   ]
  },
  {
   "cell_type": "code",
   "execution_count": 92,
   "metadata": {},
   "outputs": [
    {
     "data": {
      "text/html": [
       "<style>\n",
       ".dl-inline {width: auto; margin:0; padding: 0}\n",
       ".dl-inline>dt, .dl-inline>dd {float: none; width: auto; display: inline-block}\n",
       ".dl-inline>dt::after {content: \":\\0020\"; padding-right: .5ex}\n",
       ".dl-inline>dt:not(:first-of-type) {padding-left: .5ex}\n",
       "</style><dl class=dl-inline><dt>Sales</dt><dd>845</dd><dt>Expenses</dt><dd>710</dd><dt>Profit</dt><dd>135</dd></dl>\n"
      ],
      "text/latex": [
       "\\begin{description*}\n",
       "\\item[Sales] 845\n",
       "\\item[Expenses] 710\n",
       "\\item[Profit] 135\n",
       "\\end{description*}\n"
      ],
      "text/markdown": [
       "Sales\n",
       ":   845Expenses\n",
       ":   710Profit\n",
       ":   135\n",
       "\n"
      ],
      "text/plain": [
       "   Sales Expenses   Profit \n",
       "     845      710      135 "
      ]
     },
     "metadata": {},
     "output_type": "display_data"
    }
   ],
   "source": [
    "apply(Fruits[,4:6],2,sum)"
   ]
  },
  {
   "cell_type": "code",
   "execution_count": 95,
   "metadata": {},
   "outputs": [
    {
     "data": {
      "text/html": [
       "<table>\n",
       "<caption>A data.frame: 3 × 2</caption>\n",
       "<thead>\n",
       "\t<tr><th scope=col>X1</th><th scope=col>V1</th></tr>\n",
       "\t<tr><th scope=col>&lt;chr&gt;</th><th scope=col>&lt;dbl&gt;</th></tr>\n",
       "</thead>\n",
       "<tbody>\n",
       "\t<tr><td>Sales   </td><td>845</td></tr>\n",
       "\t<tr><td>Expenses</td><td>710</td></tr>\n",
       "\t<tr><td>Profit  </td><td>135</td></tr>\n",
       "</tbody>\n",
       "</table>\n"
      ],
      "text/latex": [
       "A data.frame: 3 × 2\n",
       "\\begin{tabular}{ll}\n",
       " X1 & V1\\\\\n",
       " <chr> & <dbl>\\\\\n",
       "\\hline\n",
       "\t Sales    & 845\\\\\n",
       "\t Expenses & 710\\\\\n",
       "\t Profit   & 135\\\\\n",
       "\\end{tabular}\n"
      ],
      "text/markdown": [
       "\n",
       "A data.frame: 3 × 2\n",
       "\n",
       "| X1 &lt;chr&gt; | V1 &lt;dbl&gt; |\n",
       "|---|---|\n",
       "| Sales    | 845 |\n",
       "| Expenses | 710 |\n",
       "| Profit   | 135 |\n",
       "\n"
      ],
      "text/plain": [
       "  X1       V1 \n",
       "1 Sales    845\n",
       "2 Expenses 710\n",
       "3 Profit   135"
      ]
     },
     "metadata": {},
     "output_type": "display_data"
    }
   ],
   "source": [
    "adply(Fruits[,4:6],2,sum)"
   ]
  },
  {
   "cell_type": "markdown",
   "metadata": {},
   "source": [
    "**ddply()** : 그룹연산에서 아주 많이 사용  \n",
    "> 데이터 프레임을 input으로 데이터 프레임을 output해주는 함수\n",
    "> 분할, 적용, 조합을 수행하여 그룹별 연산을 사용하기 위한 용도 ,tapply(),agrregate()와 유사    "
   ]
  },
  {
   "cell_type": "code",
   "execution_count": 96,
   "metadata": {},
   "outputs": [
    {
     "data": {
      "text/html": [
       "<table>\n",
       "<caption>A data.frame: 9 × 8</caption>\n",
       "<thead>\n",
       "\t<tr><th scope=col>Fruit</th><th scope=col>Year</th><th scope=col>Location</th><th scope=col>Sales</th><th scope=col>Expenses</th><th scope=col>Profit</th><th scope=col>Date</th><th scope=col>average</th></tr>\n",
       "\t<tr><th scope=col>&lt;fct&gt;</th><th scope=col>&lt;dbl&gt;</th><th scope=col>&lt;fct&gt;</th><th scope=col>&lt;dbl&gt;</th><th scope=col>&lt;dbl&gt;</th><th scope=col>&lt;dbl&gt;</th><th scope=col>&lt;date&gt;</th><th scope=col>&lt;dbl&gt;</th></tr>\n",
       "</thead>\n",
       "<tbody>\n",
       "\t<tr><td>Apples </td><td>2008</td><td>West</td><td> 98</td><td>78</td><td>20</td><td>2008-12-31</td><td>93.00000</td></tr>\n",
       "\t<tr><td>Oranges</td><td>2008</td><td>East</td><td> 96</td><td>81</td><td>15</td><td>2008-12-31</td><td>93.00000</td></tr>\n",
       "\t<tr><td>Bananas</td><td>2008</td><td>East</td><td> 85</td><td>76</td><td> 9</td><td>2008-12-31</td><td>93.00000</td></tr>\n",
       "\t<tr><td>Apples </td><td>2009</td><td>West</td><td>111</td><td>79</td><td>32</td><td>2009-12-31</td><td>99.33333</td></tr>\n",
       "\t<tr><td>Oranges</td><td>2009</td><td>East</td><td> 93</td><td>80</td><td>13</td><td>2009-12-31</td><td>99.33333</td></tr>\n",
       "\t<tr><td>Bananas</td><td>2009</td><td>East</td><td> 94</td><td>78</td><td>16</td><td>2009-12-31</td><td>99.33333</td></tr>\n",
       "\t<tr><td>Apples </td><td>2010</td><td>West</td><td> 89</td><td>76</td><td>13</td><td>2010-12-31</td><td>89.33333</td></tr>\n",
       "\t<tr><td>Oranges</td><td>2010</td><td>East</td><td> 98</td><td>91</td><td> 7</td><td>2010-12-31</td><td>89.33333</td></tr>\n",
       "\t<tr><td>Bananas</td><td>2010</td><td>East</td><td> 81</td><td>71</td><td>10</td><td>2010-12-31</td><td>89.33333</td></tr>\n",
       "</tbody>\n",
       "</table>\n"
      ],
      "text/latex": [
       "A data.frame: 9 × 8\n",
       "\\begin{tabular}{llllllll}\n",
       " Fruit & Year & Location & Sales & Expenses & Profit & Date & average\\\\\n",
       " <fct> & <dbl> & <fct> & <dbl> & <dbl> & <dbl> & <date> & <dbl>\\\\\n",
       "\\hline\n",
       "\t Apples  & 2008 & West &  98 & 78 & 20 & 2008-12-31 & 93.00000\\\\\n",
       "\t Oranges & 2008 & East &  96 & 81 & 15 & 2008-12-31 & 93.00000\\\\\n",
       "\t Bananas & 2008 & East &  85 & 76 &  9 & 2008-12-31 & 93.00000\\\\\n",
       "\t Apples  & 2009 & West & 111 & 79 & 32 & 2009-12-31 & 99.33333\\\\\n",
       "\t Oranges & 2009 & East &  93 & 80 & 13 & 2009-12-31 & 99.33333\\\\\n",
       "\t Bananas & 2009 & East &  94 & 78 & 16 & 2009-12-31 & 99.33333\\\\\n",
       "\t Apples  & 2010 & West &  89 & 76 & 13 & 2010-12-31 & 89.33333\\\\\n",
       "\t Oranges & 2010 & East &  98 & 91 &  7 & 2010-12-31 & 89.33333\\\\\n",
       "\t Bananas & 2010 & East &  81 & 71 & 10 & 2010-12-31 & 89.33333\\\\\n",
       "\\end{tabular}\n"
      ],
      "text/markdown": [
       "\n",
       "A data.frame: 9 × 8\n",
       "\n",
       "| Fruit &lt;fct&gt; | Year &lt;dbl&gt; | Location &lt;fct&gt; | Sales &lt;dbl&gt; | Expenses &lt;dbl&gt; | Profit &lt;dbl&gt; | Date &lt;date&gt; | average &lt;dbl&gt; |\n",
       "|---|---|---|---|---|---|---|---|\n",
       "| Apples  | 2008 | West |  98 | 78 | 20 | 2008-12-31 | 93.00000 |\n",
       "| Oranges | 2008 | East |  96 | 81 | 15 | 2008-12-31 | 93.00000 |\n",
       "| Bananas | 2008 | East |  85 | 76 |  9 | 2008-12-31 | 93.00000 |\n",
       "| Apples  | 2009 | West | 111 | 79 | 32 | 2009-12-31 | 99.33333 |\n",
       "| Oranges | 2009 | East |  93 | 80 | 13 | 2009-12-31 | 99.33333 |\n",
       "| Bananas | 2009 | East |  94 | 78 | 16 | 2009-12-31 | 99.33333 |\n",
       "| Apples  | 2010 | West |  89 | 76 | 13 | 2010-12-31 | 89.33333 |\n",
       "| Oranges | 2010 | East |  98 | 91 |  7 | 2010-12-31 | 89.33333 |\n",
       "| Bananas | 2010 | East |  81 | 71 | 10 | 2010-12-31 | 89.33333 |\n",
       "\n"
      ],
      "text/plain": [
       "  Fruit   Year Location Sales Expenses Profit Date       average \n",
       "1 Apples  2008 West      98   78       20     2008-12-31 93.00000\n",
       "2 Oranges 2008 East      96   81       15     2008-12-31 93.00000\n",
       "3 Bananas 2008 East      85   76        9     2008-12-31 93.00000\n",
       "4 Apples  2009 West     111   79       32     2009-12-31 99.33333\n",
       "5 Oranges 2009 East      93   80       13     2009-12-31 99.33333\n",
       "6 Bananas 2009 East      94   78       16     2009-12-31 99.33333\n",
       "7 Apples  2010 West      89   76       13     2010-12-31 89.33333\n",
       "8 Oranges 2010 East      98   91        7     2010-12-31 89.33333\n",
       "9 Bananas 2010 East      81   71       10     2010-12-31 89.33333"
      ]
     },
     "metadata": {},
     "output_type": "display_data"
    }
   ],
   "source": [
    "# 년도별 sales 평균\n",
    "ddply(Fruits,.(Year),transform,average=mean(Sales))"
   ]
  },
  {
   "cell_type": "code",
   "execution_count": 97,
   "metadata": {},
   "outputs": [
    {
     "data": {
      "text/html": [
       "<table>\n",
       "<caption>A data.frame: 9 × 8</caption>\n",
       "<thead>\n",
       "\t<tr><th scope=col>Fruit</th><th scope=col>Year</th><th scope=col>Location</th><th scope=col>Sales</th><th scope=col>Expenses</th><th scope=col>Profit</th><th scope=col>Date</th><th scope=col>average</th></tr>\n",
       "\t<tr><th scope=col>&lt;fct&gt;</th><th scope=col>&lt;dbl&gt;</th><th scope=col>&lt;fct&gt;</th><th scope=col>&lt;dbl&gt;</th><th scope=col>&lt;dbl&gt;</th><th scope=col>&lt;dbl&gt;</th><th scope=col>&lt;date&gt;</th><th scope=col>&lt;dbl&gt;</th></tr>\n",
       "</thead>\n",
       "<tbody>\n",
       "\t<tr><td>Apples </td><td>2008</td><td>West</td><td> 98</td><td>78</td><td>20</td><td>2008-12-31</td><td>99.33333</td></tr>\n",
       "\t<tr><td>Apples </td><td>2009</td><td>West</td><td>111</td><td>79</td><td>32</td><td>2009-12-31</td><td>99.33333</td></tr>\n",
       "\t<tr><td>Apples </td><td>2010</td><td>West</td><td> 89</td><td>76</td><td>13</td><td>2010-12-31</td><td>99.33333</td></tr>\n",
       "\t<tr><td>Bananas</td><td>2008</td><td>East</td><td> 85</td><td>76</td><td> 9</td><td>2008-12-31</td><td>86.66667</td></tr>\n",
       "\t<tr><td>Bananas</td><td>2009</td><td>East</td><td> 94</td><td>78</td><td>16</td><td>2009-12-31</td><td>86.66667</td></tr>\n",
       "\t<tr><td>Bananas</td><td>2010</td><td>East</td><td> 81</td><td>71</td><td>10</td><td>2010-12-31</td><td>86.66667</td></tr>\n",
       "\t<tr><td>Oranges</td><td>2008</td><td>East</td><td> 96</td><td>81</td><td>15</td><td>2008-12-31</td><td>95.66667</td></tr>\n",
       "\t<tr><td>Oranges</td><td>2009</td><td>East</td><td> 93</td><td>80</td><td>13</td><td>2009-12-31</td><td>95.66667</td></tr>\n",
       "\t<tr><td>Oranges</td><td>2010</td><td>East</td><td> 98</td><td>91</td><td> 7</td><td>2010-12-31</td><td>95.66667</td></tr>\n",
       "</tbody>\n",
       "</table>\n"
      ],
      "text/latex": [
       "A data.frame: 9 × 8\n",
       "\\begin{tabular}{llllllll}\n",
       " Fruit & Year & Location & Sales & Expenses & Profit & Date & average\\\\\n",
       " <fct> & <dbl> & <fct> & <dbl> & <dbl> & <dbl> & <date> & <dbl>\\\\\n",
       "\\hline\n",
       "\t Apples  & 2008 & West &  98 & 78 & 20 & 2008-12-31 & 99.33333\\\\\n",
       "\t Apples  & 2009 & West & 111 & 79 & 32 & 2009-12-31 & 99.33333\\\\\n",
       "\t Apples  & 2010 & West &  89 & 76 & 13 & 2010-12-31 & 99.33333\\\\\n",
       "\t Bananas & 2008 & East &  85 & 76 &  9 & 2008-12-31 & 86.66667\\\\\n",
       "\t Bananas & 2009 & East &  94 & 78 & 16 & 2009-12-31 & 86.66667\\\\\n",
       "\t Bananas & 2010 & East &  81 & 71 & 10 & 2010-12-31 & 86.66667\\\\\n",
       "\t Oranges & 2008 & East &  96 & 81 & 15 & 2008-12-31 & 95.66667\\\\\n",
       "\t Oranges & 2009 & East &  93 & 80 & 13 & 2009-12-31 & 95.66667\\\\\n",
       "\t Oranges & 2010 & East &  98 & 91 &  7 & 2010-12-31 & 95.66667\\\\\n",
       "\\end{tabular}\n"
      ],
      "text/markdown": [
       "\n",
       "A data.frame: 9 × 8\n",
       "\n",
       "| Fruit &lt;fct&gt; | Year &lt;dbl&gt; | Location &lt;fct&gt; | Sales &lt;dbl&gt; | Expenses &lt;dbl&gt; | Profit &lt;dbl&gt; | Date &lt;date&gt; | average &lt;dbl&gt; |\n",
       "|---|---|---|---|---|---|---|---|\n",
       "| Apples  | 2008 | West |  98 | 78 | 20 | 2008-12-31 | 99.33333 |\n",
       "| Apples  | 2009 | West | 111 | 79 | 32 | 2009-12-31 | 99.33333 |\n",
       "| Apples  | 2010 | West |  89 | 76 | 13 | 2010-12-31 | 99.33333 |\n",
       "| Bananas | 2008 | East |  85 | 76 |  9 | 2008-12-31 | 86.66667 |\n",
       "| Bananas | 2009 | East |  94 | 78 | 16 | 2009-12-31 | 86.66667 |\n",
       "| Bananas | 2010 | East |  81 | 71 | 10 | 2010-12-31 | 86.66667 |\n",
       "| Oranges | 2008 | East |  96 | 81 | 15 | 2008-12-31 | 95.66667 |\n",
       "| Oranges | 2009 | East |  93 | 80 | 13 | 2009-12-31 | 95.66667 |\n",
       "| Oranges | 2010 | East |  98 | 91 |  7 | 2010-12-31 | 95.66667 |\n",
       "\n"
      ],
      "text/plain": [
       "  Fruit   Year Location Sales Expenses Profit Date       average \n",
       "1 Apples  2008 West      98   78       20     2008-12-31 99.33333\n",
       "2 Apples  2009 West     111   79       32     2009-12-31 99.33333\n",
       "3 Apples  2010 West      89   76       13     2010-12-31 99.33333\n",
       "4 Bananas 2008 East      85   76        9     2008-12-31 86.66667\n",
       "5 Bananas 2009 East      94   78       16     2009-12-31 86.66667\n",
       "6 Bananas 2010 East      81   71       10     2010-12-31 86.66667\n",
       "7 Oranges 2008 East      96   81       15     2008-12-31 95.66667\n",
       "8 Oranges 2009 East      93   80       13     2009-12-31 95.66667\n",
       "9 Oranges 2010 East      98   91        7     2010-12-31 95.66667"
      ]
     },
     "metadata": {},
     "output_type": "display_data"
    }
   ],
   "source": [
    "# 과일 종류별 Sales 평균\n",
    "ddply(Fruits,.(Fruit),transform,average=mean(Sales))"
   ]
  }
 ],
 "metadata": {
  "kernelspec": {
   "display_name": "R",
   "language": "R",
   "name": "ir"
  },
  "language_info": {
   "codemirror_mode": "r",
   "file_extension": ".r",
   "mimetype": "text/x-r-source",
   "name": "R",
   "pygments_lexer": "r",
   "version": "4.0.2"
  }
 },
 "nbformat": 4,
 "nbformat_minor": 4
}
